{
  "cells": [
    {
      "cell_type": "raw",
      "metadata": {},
      "source": [
        "---\n",
        "title: \"CV\"\n",
        "format: html\n",
        "editor: visual\n",
        "---"
      ],
      "id": "9dbbdd65"
    },
    {
      "cell_type": "markdown",
      "metadata": {},
      "source": [
        "## CV\n",
        "\n",
        "**My Video CV:**\n",
        "\n",
        "\n",
        "```{video controls=\"true\"}\n",
        "src: Video-CV.mp4\n",
        "type: video/mp4\n",
        "```"
      ],
      "id": "7ced6d6f"
    }
  ],
  "metadata": {
    "kernelspec": {
      "display_name": "Python 3",
      "language": "python",
      "name": "python3"
    }
  },
  "nbformat": 4,
  "nbformat_minor": 5
}